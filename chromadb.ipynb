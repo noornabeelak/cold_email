{
 "cells": [
  {
   "cell_type": "code",
   "execution_count": 1,
   "id": "9147cf2a-32e8-4029-808f-49a4dfd7985f",
   "metadata": {},
   "outputs": [],
   "source": [
    "import chromadb"
   ]
  },
  {
   "cell_type": "code",
   "execution_count": 2,
   "id": "c6fd2624-7956-4643-8c2f-7cfa30042791",
   "metadata": {},
   "outputs": [],
   "source": [
    "client=chromadb.Client()\n",
    "collection=client.create_collection(name=\"my_collection\")"
   ]
  },
  {
   "cell_type": "code",
   "execution_count": 26,
   "id": "d3b2058b-0cbc-49c0-a168-ce0c55ea585d",
   "metadata": {},
   "outputs": [],
   "source": [
    "collection.add(\n",
    "    documents=[\"this is india\",\n",
    "               \"this is usa\"],\n",
    "    ids=[\"id1\",\"id2\"],\n",
    "    metadatas=[\n",
    "        {\"url\":\"https://en.wikipedia.org/wiki/India\"},\n",
    "        {\"url\":\"https://en.wikipedia.org/wiki/United_States\"}\n",
    "    ]\n",
    "\n",
    "\n",
    ")\n",
    "    \n",
    "    "
   ]
  },
  {
   "cell_type": "code",
   "execution_count": 27,
   "id": "2c31fa03-334c-4be3-926a-1f5bc29404bf",
   "metadata": {},
   "outputs": [
    {
     "data": {
      "text/plain": [
       "{'ids': ['id1', 'id2'],\n",
       " 'embeddings': None,\n",
       " 'metadatas': [{'url': 'https://en.wikipedia.org/wiki/India'},\n",
       "  {'url': 'https://en.wikipedia.org/wiki/United_States'}],\n",
       " 'documents': ['this is india', 'this is usa'],\n",
       " 'uris': None,\n",
       " 'data': None}"
      ]
     },
     "execution_count": 27,
     "metadata": {},
     "output_type": "execute_result"
    }
   ],
   "source": [
    "all_docs=collection.get()\n",
    "all_docs"
   ]
  },
  {
   "cell_type": "code",
   "execution_count": 28,
   "id": "70c6eaa1-6e5c-4acf-ac0a-6436dafec183",
   "metadata": {},
   "outputs": [],
   "source": [
    "# collection.delete(ids=[\"id1\", \"id2\"]) #incase i add something wrong,delete it and readd\n",
    "## to delete everything: -> collection"
   ]
  },
  {
   "cell_type": "code",
   "execution_count": 29,
   "id": "3cfadd81-f4bd-434a-bb8a-6f3b07276cd3",
   "metadata": {},
   "outputs": [
    {
     "data": {
      "text/plain": [
       "{'ids': [['id1', 'id2']],\n",
       " 'distances': [[1.6284085512161255, 1.755091667175293]],\n",
       " 'metadatas': [[{'url': 'https://en.wikipedia.org/wiki/India'},\n",
       "   {'url': 'https://en.wikipedia.org/wiki/United_States'}]],\n",
       " 'embeddings': None,\n",
       " 'documents': [['this is india', 'this is usa']],\n",
       " 'uris': None,\n",
       " 'data': None}"
      ]
     },
     "execution_count": 29,
     "metadata": {},
     "output_type": "execute_result"
    }
   ],
   "source": [
    "results=collection.query(\n",
    "    query_texts=[\"air pollution\"],\n",
    "    n_results=2\n",
    ")\n",
    "results"
   ]
  },
  {
   "cell_type": "code",
   "execution_count": null,
   "id": "6192dfa0-da5e-4de5-a4b6-17394641ff05",
   "metadata": {},
   "outputs": [],
   "source": []
  }
 ],
 "metadata": {
  "kernelspec": {
   "display_name": "Python 3 (ipykernel)",
   "language": "python",
   "name": "python3"
  },
  "language_info": {
   "codemirror_mode": {
    "name": "ipython",
    "version": 3
   },
   "file_extension": ".py",
   "mimetype": "text/x-python",
   "name": "python",
   "nbconvert_exporter": "python",
   "pygments_lexer": "ipython3",
   "version": "3.11.3"
  }
 },
 "nbformat": 4,
 "nbformat_minor": 5
}
